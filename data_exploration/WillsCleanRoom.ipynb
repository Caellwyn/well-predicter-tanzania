{
 "cells": [
  {
   "cell_type": "code",
   "execution_count": 74,
   "metadata": {},
   "outputs": [],
   "source": [
    "import pandas as pd\n",
    "import numpy as np\n",
    "pd.set_option('display.max_columns', None)\n",
    "import matplotlib.pyplot as plt\n",
    "%matplotlib inline\n",
    "import sys\n",
    "sys.path.append(\"../\")\n",
    "from src.data import *\n",
    "\n",
    "from sklearn.model_selection import train_test_split, cross_val_score\n",
    "from sklearn.metrics import accuracy_score, confusion_matrix, classification_report, f1_score, recall_score\n",
    "from sklearn.model_selection import GridSearchCV, validation_curve\n",
    "from sklearn.metrics import plot_confusion_matrix\n",
    "\n",
    "from sklearn.impute import SimpleImputer\n",
    "from sklearn.preprocessing import OneHotEncoder, StandardScaler\n",
    "\n",
    "from xgboost import XGBClassifier\n",
    "from sklearn.tree import DecisionTreeClassifier\n",
    "from sklearn.ensemble import BaggingClassifier, RandomForestClassifier\n",
    "from sklearn.naive_bayes import GaussianNB\n",
    "import lightgbm as lgb"
   ]
  },
  {
   "cell_type": "code",
   "execution_count": 34,
   "metadata": {},
   "outputs": [],
   "source": [
    "X, y = load_data()"
   ]
  },
  {
   "cell_type": "code",
   "execution_count": 35,
   "metadata": {},
   "outputs": [],
   "source": [
    "X_train, X_test, y_train, y_test = train_test_split(X, y, test_size=.2, random_state=42)"
   ]
  },
  {
   "cell_type": "markdown",
   "metadata": {},
   "source": [
    "$Preproccesing data for XGBoost and LightGBM$"
   ]
  },
  {
   "cell_type": "code",
   "execution_count": 36,
   "metadata": {},
   "outputs": [],
   "source": [
    "wp = WellProcessor()"
   ]
  },
  {
   "cell_type": "code",
   "execution_count": 37,
   "metadata": {},
   "outputs": [],
   "source": [
    "wp.fit(X_train)\n",
    "X_train = wp.transform(X_train)"
   ]
  },
  {
   "cell_type": "code",
   "execution_count": 38,
   "metadata": {},
   "outputs": [],
   "source": [
    "X_test = wp.transform(X_test)"
   ]
  },
  {
   "cell_type": "markdown",
   "metadata": {},
   "source": [
    "$XGBoost$"
   ]
  },
  {
   "cell_type": "markdown",
   "metadata": {},
   "source": [
    "Becuase it is one of the strongest, if not the strongest, model on the market currently. I wanted to start with XGBoost to see what kind of results it can give as a benchmark."
   ]
  },
  {
   "cell_type": "code",
   "execution_count": 39,
   "metadata": {},
   "outputs": [],
   "source": [
    "# Instantiate XGBClassifier\n",
    "XGB = XGBClassifier()\n",
    "\n",
    "# Fit XGBClassifier\n",
    "XGB.fit(X_train, y_train)\n",
    "\n",
    "# Predict on training and test sets\n",
    "training_preds_xgb = XGB.predict(X_train)\n",
    "test_preds_xgb = XGB.predict(X_test)"
   ]
  },
  {
   "cell_type": "code",
   "execution_count": 40,
   "metadata": {},
   "outputs": [
    {
     "name": "stdout",
     "output_type": "stream",
     "text": [
      "              precision    recall  f1-score   support\n",
      "\n",
      "           0       0.84      0.72      0.78      4572\n",
      "           1       0.64      0.25      0.36       851\n",
      "           2       0.77      0.91      0.84      6457\n",
      "\n",
      "    accuracy                           0.79     11880\n",
      "   macro avg       0.75      0.63      0.66     11880\n",
      "weighted avg       0.79      0.79      0.78     11880\n",
      "\n"
     ]
    }
   ],
   "source": [
    "print(classification_report(y_test, test_preds_xgb))"
   ]
  },
  {
   "cell_type": "markdown",
   "metadata": {},
   "source": [
    "While XGBoost gave great results with default hyperparameters, it took a minimum of 12minutes to run. I wanted to compare its results to more efficent models."
   ]
  },
  {
   "cell_type": "markdown",
   "metadata": {},
   "source": [
    "*$DecisionTreeClassifier$*"
   ]
  },
  {
   "cell_type": "markdown",
   "metadata": {},
   "source": [
    "My next model was a Decision Tree. I wanted something to compare to XGBoost that was a little bit more simple, but still could deal with complex models. I also wanted a model that could execute faster than XGBoost."
   ]
  },
  {
   "cell_type": "code",
   "execution_count": 4,
   "metadata": {},
   "outputs": [
    {
     "name": "stdout",
     "output_type": "stream",
     "text": [
      "0.7634231192054719\n"
     ]
    }
   ],
   "source": [
    "rn_dtc = run_model (X_train, y_train, DecisionTreeClassifier())"
   ]
  },
  {
   "cell_type": "code",
   "execution_count": 5,
   "metadata": {},
   "outputs": [
    {
     "data": {
      "text/plain": [
       "0.7634231192054719"
      ]
     },
     "execution_count": 5,
     "metadata": {},
     "output_type": "execute_result"
    }
   ],
   "source": [
    "rn_dtc.best_score_"
   ]
  },
  {
   "cell_type": "markdown",
   "metadata": {},
   "source": [
    "We had a nice score from our Decision Tree Classifier, but not as high as our XGBoost."
   ]
  },
  {
   "cell_type": "markdown",
   "metadata": {},
   "source": [
    "$Random Forest Classifier$"
   ]
  },
  {
   "cell_type": "markdown",
   "metadata": {},
   "source": [
    "While my Decision Tree Classifier gave good results I wanted to try a more complex Random Forest Classifier to compare it to. I had great success with Random Forest in previous work, so it seemed like a natural choice."
   ]
  },
  {
   "cell_type": "code",
   "execution_count": 141,
   "metadata": {},
   "outputs": [
    {
     "name": "stdout",
     "output_type": "stream",
     "text": [
      "0.7823800122315898\n"
     ]
    }
   ],
   "source": [
    "rn_rfc = run_model (X_train, y_train, RandomForestClassifier())"
   ]
  },
  {
   "cell_type": "code",
   "execution_count": 142,
   "metadata": {},
   "outputs": [
    {
     "data": {
      "text/plain": [
       "0.7823800122315898"
      ]
     },
     "execution_count": 142,
     "metadata": {},
     "output_type": "execute_result"
    }
   ],
   "source": [
    "rn_rfc.best_score_"
   ]
  },
  {
   "cell_type": "markdown",
   "metadata": {},
   "source": [
    "My Random Forest gave a better score than my Decision Tree, which was great but the improvement wasnt as large as I was hoping. It was also slower than my Decision Tree."
   ]
  },
  {
   "cell_type": "markdown",
   "metadata": {},
   "source": [
    "$Naive Bayes$"
   ]
  },
  {
   "cell_type": "markdown",
   "metadata": {},
   "source": [
    "While the Random Forest was a success, I wanted to see if we can improve a scores by a greater margin. One of the biggest challnenges for our data is the dataset is so large. Naive Bayes models are recorded to be better with larger datasets, so I wanted to use one next."
   ]
  },
  {
   "cell_type": "code",
   "execution_count": 9,
   "metadata": {},
   "outputs": [
    {
     "name": "stdout",
     "output_type": "stream",
     "text": [
      "0.1799257700085921\n"
     ]
    }
   ],
   "source": [
    "rn_gnb = run_model (X_train, y_train, GaussianNB())"
   ]
  },
  {
   "cell_type": "code",
   "execution_count": 10,
   "metadata": {},
   "outputs": [
    {
     "data": {
      "text/plain": [
       "0.1799257700085921"
      ]
     },
     "execution_count": 10,
     "metadata": {},
     "output_type": "execute_result"
    }
   ],
   "source": [
    "rn_gnb.best_score_"
   ]
  },
  {
   "cell_type": "markdown",
   "metadata": {},
   "source": [
    "Huge drop in score, the dream has ended, hope is gone."
   ]
  },
  {
   "cell_type": "markdown",
   "metadata": {},
   "source": [
    "$LightGBM$"
   ]
  },
  {
   "cell_type": "markdown",
   "metadata": {},
   "source": [
    "After a misreble attempt with a Naive Bayes model I did some research into how to make our current best model even better. LightGBM is reported to be as competitive as XGBoost but with much faster times."
   ]
  },
  {
   "cell_type": "code",
   "execution_count": 43,
   "metadata": {},
   "outputs": [],
   "source": [
    "# Instantiate XGBClassifier\n",
    "lgbm = lgb.LGBMClassifier()\n",
    "\n",
    "# Fit XGBClassifier\n",
    "lgbm.fit(X_train, y_train)\n",
    "\n",
    "# Predict on training and test sets\n",
    "training_preds_lgbm = lgbm.predict(X_train)\n",
    "test_preds_lgbm = lgbm.predict(X_test)"
   ]
  },
  {
   "cell_type": "code",
   "execution_count": 44,
   "metadata": {},
   "outputs": [
    {
     "name": "stdout",
     "output_type": "stream",
     "text": [
      "              precision    recall  f1-score   support\n",
      "\n",
      "           0       0.84      0.71      0.77      4572\n",
      "           1       0.65      0.23      0.34       851\n",
      "           2       0.76      0.91      0.83      6457\n",
      "\n",
      "    accuracy                           0.79     11880\n",
      "   macro avg       0.75      0.62      0.65     11880\n",
      "weighted avg       0.79      0.79      0.77     11880\n",
      "\n"
     ]
    }
   ],
   "source": [
    "print(classification_report(y_test, test_preds_lgbm))"
   ]
  },
  {
   "cell_type": "markdown",
   "metadata": {},
   "source": [
    "$Hypertuning our Best Model$"
   ]
  },
  {
   "cell_type": "markdown",
   "metadata": {},
   "source": [
    "I starterd Hyper tuning with a parameter grid using our class model. I picked several semi random parameters, and gave them ranges. A starting point."
   ]
  },
  {
   "cell_type": "code",
   "execution_count": 52,
   "metadata": {},
   "outputs": [],
   "source": [
    "param_grid = {\n",
    "    'estimator__max_depth': [5,6,7,8],\n",
    "    'estimator__min_samples_split': [500,1000,1500],\n",
    "    'estimator__max_leaf_nodes': [10,25,50],\n",
    "    'estimator__min_samples_leaf': [100, 250]\n",
    "}"
   ]
  },
  {
   "cell_type": "code",
   "execution_count": 53,
   "metadata": {},
   "outputs": [
    {
     "name": "stdout",
     "output_type": "stream",
     "text": [
      "0.5196142021514092\n"
     ]
    }
   ],
   "source": [
    "rn_rfc_bp = run_model (X_train, y_train, RandomForestClassifier(), param_grid=param_grid)"
   ]
  },
  {
   "cell_type": "code",
   "execution_count": 55,
   "metadata": {},
   "outputs": [
    {
     "data": {
      "text/plain": [
       "{'estimator__max_depth': 8,\n",
       " 'estimator__max_leaf_nodes': 50,\n",
       " 'estimator__min_samples_leaf': 100,\n",
       " 'estimator__min_samples_split': 500}"
      ]
     },
     "execution_count": 55,
     "metadata": {},
     "output_type": "execute_result"
    }
   ],
   "source": [
    "rn_rfc_bp.best_params_"
   ]
  },
  {
   "cell_type": "markdown",
   "metadata": {},
   "source": [
    "The above method didn't work as well as I was hoping, and reduced our over score dramaticlly. As all the estimators are at the extremes of each range, I chose to go with another approach and use Validation Curves. Building the curve and plotting it will help show me the direction and slope of the score- basicly a hot or cold meter ."
   ]
  },
  {
   "cell_type": "markdown",
   "metadata": {},
   "source": [
    "n_estimators"
   ]
  },
  {
   "cell_type": "code",
   "execution_count": 127,
   "metadata": {},
   "outputs": [],
   "source": [
    "param_range = [300, 500, 750, 800, 1200] #500 best"
   ]
  },
  {
   "cell_type": "code",
   "execution_count": 128,
   "metadata": {},
   "outputs": [],
   "source": [
    "train_scoreNum, test_scoreNum = validation_curve(\n",
    "                                RandomForestClassifier(max_depth=30, class_weight=\"balanced\"),\n",
    "                                X = X_train, y = y_train, \n",
    "                                param_name = 'n_estimators', \n",
    "                                param_range = param_range, cv = 3)"
   ]
  },
  {
   "cell_type": "code",
   "execution_count": 131,
   "metadata": {},
   "outputs": [
    {
     "data": {
      "text/plain": [
       "array([[0.79185606, 0.79848485, 0.79482323],\n",
       "       [0.79248737, 0.79772727, 0.79520202],\n",
       "       [0.79179293, 0.79728535, 0.79501263],\n",
       "       [0.79198232, 0.79753788, 0.7947601 ],\n",
       "       [0.79248737, 0.79690657, 0.79583333]])"
      ]
     },
     "execution_count": 131,
     "metadata": {},
     "output_type": "execute_result"
    }
   ],
   "source": [
    "test_scoreNum #800 best"
   ]
  },
  {
   "cell_type": "code",
   "execution_count": 129,
   "metadata": {},
   "outputs": [
    {
     "data": {
      "image/png": "[encoded data removed]",
      "text/plain": [
       "<Figure size 432x288 with 1 Axes>"
      ]
     },
     "metadata": {
      "needs_background": "light"
     },
     "output_type": "display_data"
    }
   ],
   "source": [
    "# Calculate mean and standard deviation for training set scores\n",
    "train_mean = np.mean(train_scoreNum, axis=1)\n",
    "train_std = np.std(train_scoreNum, axis=1)\n",
    "\n",
    "# Calculate mean and standard deviation for test set scores\n",
    "test_mean = np.mean(test_scoreNum, axis=1)\n",
    "test_std = np.std(test_scoreNum, axis=1)\n",
    "\n",
    "# Plot mean accuracy scores for training and test sets\n",
    "plt.plot(param_range, train_mean, label=\"Training score\", color=\"black\")\n",
    "plt.plot(param_range, test_mean, label=\"Cross-validation score\", color=\"dimgrey\")\n",
    "\n",
    "# Plot accurancy bands for training and test sets\n",
    "plt.fill_between(param_range, train_mean - train_std, train_mean + train_std, color=\"gray\")\n",
    "plt.fill_between(param_range, test_mean - test_std, test_mean + test_std, color=\"gainsboro\")\n",
    "\n",
    "# Create plot\n",
    "plt.title(\"Validation Curve With Random Forest\")\n",
    "plt.xlabel(\"Number Of Trees\")\n",
    "plt.ylabel(\"Accuracy Score\")\n",
    "plt.tight_layout()\n",
    "plt.legend(loc=\"best\")\n",
    "plt.show()"
   ]
  },
  {
   "cell_type": "markdown",
   "metadata": {},
   "source": [
    "max_depth"
   ]
  },
  {
   "cell_type": "code",
   "execution_count": 154,
   "metadata": {},
   "outputs": [],
   "source": [
    "#param_range=[5,10,15,20,25,30] #30 best maybe 40\n",
    "param_range=[15,20,25,30, 35, 40]"
   ]
  },
  {
   "cell_type": "code",
   "execution_count": 155,
   "metadata": {},
   "outputs": [
    {
     "name": "stdout",
     "output_type": "stream",
     "text": [
      "[[0.80334596 0.79955808 0.7967803 ]\n",
      " [0.89756944 0.89662247 0.89659091]\n",
      " [0.95969066 0.96089015 0.96076389]\n",
      " [0.98784722 0.98683712 0.98734217]\n",
      " [0.99520202 0.99472854 0.99548611]\n",
      " [0.99703283 0.9969697  0.99709596]]\n",
      "[[0.73667929 0.74166667 0.72853535]\n",
      " [0.77417929 0.7792298  0.77032828]\n",
      " [0.78731061 0.79602273 0.78977273]\n",
      " [0.79236111 0.79539141 0.79513889]\n",
      " [0.79349747 0.79602273 0.79526515]\n",
      " [0.79349747 0.79690657 0.79513889]]\n"
     ]
    }
   ],
   "source": [
    "train_scoreMD, test_scoreMD = validation_curve(\n",
    "                                RandomForestClassifier(class_weight='balanced_subsample'),\n",
    "                                X = X_train, y = y_train, \n",
    "                                param_name = 'max_depth', \n",
    "                                param_range = param_range, cv = 3)\n",
    "print(train_scoreMD)\n",
    "print(test_scoreMD)"
   ]
  },
  {
   "cell_type": "code",
   "execution_count": 156,
   "metadata": {},
   "outputs": [
    {
     "data": {
      "image/png": "[encoded data removed]",
      "text/plain": [
       "<Figure size 432x288 with 1 Axes>"
      ]
     },
     "metadata": {
      "needs_background": "light"
     },
     "output_type": "display_data"
    }
   ],
   "source": [
    "# Calculate mean and standard deviation for training set scores\n",
    "train_mean = np.mean(train_scoreMD, axis=1)\n",
    "train_std = np.std(train_scoreMD, axis=1)\n",
    "\n",
    "# Calculate mean and standard deviation for test set scores\n",
    "test_mean = np.mean(test_scoreMD, axis=1)\n",
    "test_std = np.std(test_scoreMD, axis=1)\n",
    "\n",
    "# Plot mean accuracy scores for training and test sets\n",
    "plt.plot(param_range, train_mean, label=\"Training score\", color=\"black\")\n",
    "plt.plot(param_range, test_mean, label=\"Cross-validation score\", color=\"dimgrey\")\n",
    "\n",
    "# Plot accurancy bands for training and test sets\n",
    "plt.fill_between(param_range, train_mean - train_std, train_mean + train_std, color=\"gray\")\n",
    "plt.fill_between(param_range, test_mean - test_std, test_mean + test_std, color=\"gainsboro\")\n",
    "\n",
    "# Create plot\n",
    "plt.title(\"Validation Curve With Random Forest\")\n",
    "plt.xlabel(\"Number Of Trees\")\n",
    "plt.ylabel(\"Accuracy Score\")\n",
    "plt.tight_layout()\n",
    "plt.legend(loc=\"best\")\n",
    "plt.show()"
   ]
  },
  {
   "cell_type": "markdown",
   "metadata": {},
   "source": [
    "max_leaf_nodes"
   ]
  },
  {
   "cell_type": "code",
   "execution_count": 133,
   "metadata": {},
   "outputs": [],
   "source": [
    "param_range=[1, 2, 4, 6, 8, 10] #2 is best"
   ]
  },
  {
   "cell_type": "code",
   "execution_count": 134,
   "metadata": {},
   "outputs": [
    {
     "name": "stdout",
     "output_type": "stream",
     "text": [
      "[[       nan        nan        nan]\n",
      " [0.98712121 0.98661616 0.98809975]\n",
      " [0.94217172 0.94182449 0.94387626]\n",
      " [0.91268939 0.91224747 0.91442551]\n",
      " [0.89450758 0.89239268 0.89750631]\n",
      " [0.87979798 0.87787247 0.88188131]]\n",
      "[[       nan        nan        nan]\n",
      " [0.79343434 0.79671717 0.79343434]\n",
      " [0.7885101  0.79147727 0.7875    ]\n",
      " [0.78194444 0.78680556 0.77960859]\n",
      " [0.77563131 0.78137626 0.77638889]\n",
      " [0.77361111 0.7790404  0.77013889]]\n"
     ]
    }
   ],
   "source": [
    "train_scoreMSS, test_scoreMSS = validation_curve(\n",
    "                                RandomForestClassifier(max_depth=30, class_weight=\"balanced\"),\n",
    "                                X = X_train, y = y_train, \n",
    "                                param_name = 'min_samples_split', \n",
    "                                param_range = param_range, cv = 3)\n",
    "print(train_scoreMSS)\n",
    "print(test_scoreMSS)"
   ]
  },
  {
   "cell_type": "code",
   "execution_count": 135,
   "metadata": {},
   "outputs": [
    {
     "data": {
      "image/png": "[encoded data removed]",
      "text/plain": [
       "<Figure size 432x288 with 1 Axes>"
      ]
     },
     "metadata": {
      "needs_background": "light"
     },
     "output_type": "display_data"
    }
   ],
   "source": [
    "# Calculate mean and standard deviation for training set scores\n",
    "train_mean = np.mean(train_scoreMSS, axis=1)\n",
    "train_std = np.std(train_scoreMSS, axis=1)\n",
    "\n",
    "# Calculate mean and standard deviation for test set scores\n",
    "test_mean = np.mean(test_scoreMSS, axis=1)\n",
    "test_std = np.std(test_scoreMSS, axis=1)\n",
    "\n",
    "# Plot mean accuracy scores for training and test sets\n",
    "plt.plot(param_range, train_mean, label=\"Training score\", color=\"black\")\n",
    "plt.plot(param_range, test_mean, label=\"Cross-validation score\", color=\"dimgrey\")\n",
    "\n",
    "# Plot accurancy bands for training and test sets\n",
    "plt.fill_between(param_range, train_mean - train_std, train_mean + train_std, color=\"gray\")\n",
    "plt.fill_between(param_range, test_mean - test_std, test_mean + test_std, color=\"gainsboro\")\n",
    "\n",
    "# Create plot\n",
    "plt.title(\"Validation Curve With Random Forest\")\n",
    "plt.xlabel(\"Number Of Trees\")\n",
    "plt.ylabel(\"Accuracy Score\")\n",
    "plt.tight_layout()\n",
    "plt.legend(loc=\"best\")\n",
    "plt.show()"
   ]
  },
  {
   "cell_type": "code",
   "execution_count": 137,
   "metadata": {},
   "outputs": [],
   "source": [
    "param_range=[1, 2, 5, 10, 15]"
   ]
  },
  {
   "cell_type": "code",
   "execution_count": 138,
   "metadata": {},
   "outputs": [
    {
     "name": "stdout",
     "output_type": "stream",
     "text": [
      "[[       nan        nan        nan]\n",
      " [0.98712121 0.98661616 0.98809975]\n",
      " [0.94217172 0.94182449 0.94387626]\n",
      " [0.91268939 0.91224747 0.91442551]\n",
      " [0.89450758 0.89239268 0.89750631]\n",
      " [0.87979798 0.87787247 0.88188131]]\n",
      "[[       nan        nan        nan]\n",
      " [0.79343434 0.79671717 0.79343434]\n",
      " [0.7885101  0.79147727 0.7875    ]\n",
      " [0.78194444 0.78680556 0.77960859]\n",
      " [0.77563131 0.78137626 0.77638889]\n",
      " [0.77361111 0.7790404  0.77013889]]\n"
     ]
    }
   ],
   "source": [
    "train_scoreMSL, test_scoreMSL = validation_curve(\n",
    "                                RandomForestClassifier(max_depth=30, class_weight=\"balanced\"),\n",
    "                                X = X_train, y = y_train, \n",
    "                                param_name = 'min_samples_leaf', \n",
    "                                param_range = param_range, cv = 3)\n",
    "print(train_scoreMSS)\n",
    "print(test_scoreMSS)"
   ]
  },
  {
   "cell_type": "code",
   "execution_count": 139,
   "metadata": {},
   "outputs": [
    {
     "data": {
      "image/png": "[encoded data removed]",
      "text/plain": [
       "<Figure size 432x288 with 1 Axes>"
      ]
     },
     "metadata": {
      "needs_background": "light"
     },
     "output_type": "display_data"
    }
   ],
   "source": [
    "# Calculate mean and standard deviation for training set scores\n",
    "train_mean = np.mean(train_scoreMSL, axis=1)\n",
    "train_std = np.std(train_scoreMSL, axis=1)\n",
    "\n",
    "# Calculate mean and standard deviation for test set scores\n",
    "test_mean = np.mean(test_scoreMSL, axis=1)\n",
    "test_std = np.std(test_scoreMSL, axis=1)\n",
    "\n",
    "# Plot mean accuracy scores for training and test sets\n",
    "plt.plot(param_range, train_mean, label=\"Training score\", color=\"black\")\n",
    "plt.plot(param_range, test_mean, label=\"Cross-validation score\", color=\"dimgrey\")\n",
    "\n",
    "# Plot accurancy bands for training and test sets\n",
    "plt.fill_between(param_range, train_mean - train_std, train_mean + train_std, color=\"gray\")\n",
    "plt.fill_between(param_range, test_mean - test_std, test_mean + test_std, color=\"gainsboro\")\n",
    "\n",
    "# Create plot\n",
    "plt.title(\"Validation Curve With Random Forest\")\n",
    "plt.xlabel(\"Number Of Trees\")\n",
    "plt.ylabel(\"Accuracy Score\")\n",
    "plt.tight_layout()\n",
    "plt.legend(loc=\"best\")\n",
    "plt.show()"
   ]
  },
  {
   "cell_type": "code",
   "execution_count": 104,
   "metadata": {},
   "outputs": [],
   "source": [
    "param_range = ['auto', 'sqrt', 'log2'] #auto is best"
   ]
  },
  {
   "cell_type": "code",
   "execution_count": 105,
   "metadata": {},
   "outputs": [
    {
     "name": "stdout",
     "output_type": "stream",
     "text": [
      "[[0.99801136 0.99794823 0.9979798 ]\n",
      " [0.99794823 0.99794823 0.99801136]\n",
      " [0.99804293 0.9979798  0.99801136]]\n",
      "[[0.79217172 0.79791667 0.79640152]\n",
      " [0.79084596 0.7967803  0.79627525]\n",
      " [0.78964646 0.79381313 0.79375   ]]\n"
     ]
    }
   ],
   "source": [
    "train_scoreMF, test_scoreMF = validation_curve(\n",
    "                                RandomForestClassifier(),\n",
    "                                X = X_train, y = y_train, \n",
    "                                param_name = 'max_features', \n",
    "                                param_range = param_range, cv = 3)\n",
    "print(train_scoreMF)\n",
    "print(test_scoreMF)"
   ]
  },
  {
   "cell_type": "code",
   "execution_count": 106,
   "metadata": {},
   "outputs": [
    {
     "data": {
      "image/png": "[encoded data removed]",
      "text/plain": [
       "<Figure size 432x288 with 1 Axes>"
      ]
     },
     "metadata": {
      "needs_background": "light"
     },
     "output_type": "display_data"
    }
   ],
   "source": [
    "# Calculate mean and standard deviation for training set scores\n",
    "train_mean = np.mean(train_scoreMF, axis=1)\n",
    "train_std = np.std(train_scoreMF, axis=1)\n",
    "\n",
    "# Calculate mean and standard deviation for test set scores\n",
    "test_mean = np.mean(test_scoreMF, axis=1)\n",
    "test_std = np.std(test_scoreMF, axis=1)\n",
    "\n",
    "# Plot mean accuracy scores for training and test sets\n",
    "plt.plot(param_range, train_mean, label=\"Training score\", color=\"black\")\n",
    "plt.plot(param_range, test_mean, label=\"Cross-validation score\", color=\"dimgrey\")\n",
    "\n",
    "# Plot accurancy bands for training and test sets\n",
    "plt.fill_between(param_range, train_mean - train_std, train_mean + train_std, color=\"gray\")\n",
    "plt.fill_between(param_range, test_mean - test_std, test_mean + test_std, color=\"gainsboro\")\n",
    "\n",
    "# Create plot\n",
    "plt.title(\"Validation Curve With Random Forest\")\n",
    "plt.xlabel(\"Number Of Trees\")\n",
    "plt.ylabel(\"Accuracy Score\")\n",
    "plt.tight_layout()\n",
    "plt.legend(loc=\"best\")\n",
    "plt.show()"
   ]
  },
  {
   "cell_type": "code",
   "execution_count": 113,
   "metadata": {},
   "outputs": [],
   "source": [
    "param_range = ['gini', 'entropy']"
   ]
  },
  {
   "cell_type": "code",
   "execution_count": 114,
   "metadata": {},
   "outputs": [
    {
     "name": "stdout",
     "output_type": "stream",
     "text": [
      "[[0.99804293 0.99791667 0.99804293]\n",
      " [0.9979798  0.99791667 0.99801136]]\n",
      "[[0.79305556 0.79684343 0.79520202]\n",
      " [0.79292929 0.7967803  0.79646465]]\n"
     ]
    }
   ],
   "source": [
    "train_scoreC, test_scoreC = validation_curve(\n",
    "                                RandomForestClassifier(),\n",
    "                                X = X_train, y = y_train, \n",
    "                                param_name = 'criterion', \n",
    "                                param_range = param_range, cv = 3)\n",
    "print(train_scoreC)\n",
    "print(test_scoreC)"
   ]
  },
  {
   "cell_type": "code",
   "execution_count": 115,
   "metadata": {},
   "outputs": [
    {
     "data": {
      "image/png": "[encoded data removed]",
      "text/plain": [
       "<Figure size 432x288 with 1 Axes>"
      ]
     },
     "metadata": {
      "needs_background": "light"
     },
     "output_type": "display_data"
    }
   ],
   "source": [
    "# Calculate mean and standard deviation for training set scores\n",
    "train_mean = np.mean(train_scoreC, axis=1)\n",
    "train_std = np.std(train_scoreC, axis=1)\n",
    "\n",
    "# Calculate mean and standard deviation for test set scores\n",
    "test_mean = np.mean(test_scoreC, axis=1)\n",
    "test_std = np.std(test_scoreC, axis=1)\n",
    "\n",
    "# Plot mean accuracy scores for training and test sets\n",
    "plt.plot(param_range, train_mean, label=\"Training score\", color=\"black\")\n",
    "plt.plot(param_range, test_mean, label=\"Cross-validation score\", color=\"dimgrey\")\n",
    "\n",
    "# Plot accurancy bands for training and test sets\n",
    "plt.fill_between(param_range, train_mean - train_std, train_mean + train_std, color=\"gray\")\n",
    "plt.fill_between(param_range, test_mean - test_std, test_mean + test_std, color=\"gainsboro\")\n",
    "\n",
    "# Create plot\n",
    "plt.title(\"Validation Curve With Random Forest\")\n",
    "plt.xlabel(\"Number Of Trees\")\n",
    "plt.ylabel(\"Accuracy Score\")\n",
    "plt.tight_layout()\n",
    "plt.legend(loc=\"best\")\n",
    "plt.show()"
   ]
  },
  {
   "cell_type": "code",
   "execution_count": 125,
   "metadata": {},
   "outputs": [
    {
     "data": {
      "text/plain": [
       "status_group\n",
       "2               25802\n",
       "0               18252\n",
       "1                3466\n",
       "dtype: int64"
      ]
     },
     "execution_count": 125,
     "metadata": {},
     "output_type": "execute_result"
    }
   ],
   "source": [
    "y_train.value_counts()"
   ]
  },
  {
   "cell_type": "code",
   "execution_count": 111,
   "metadata": {},
   "outputs": [
    {
     "name": "stdout",
     "output_type": "stream",
     "text": [
      "0.7545470822405571\n"
     ]
    }
   ],
   "source": [
    "rn_bm = run_model (X_train, y_train, RandomForestClassifier(n_estimators=800, max_depth=30, min_samples_split=5))\n",
    "rn_bm.best_score_"
   ]
  },
  {
   "cell_type": "markdown",
   "metadata": {},
   "source": [
    "Not a great score, it was reduced by .03% lets try dropping some parameters and balancing our data. Bellow I began plugging in some of the best performing hyper parameters together to see what the results are.\n",
    "\n",
    "Our classes also are not balanced so lets try adding a class_weight."
   ]
  },
  {
   "cell_type": "code",
   "execution_count": 136,
   "metadata": {},
   "outputs": [
    {
     "name": "stdout",
     "output_type": "stream",
     "text": [
      "0.7754218135020243\n"
     ]
    },
    {
     "data": {
      "text/plain": [
       "0.7754218135020243"
      ]
     },
     "execution_count": 136,
     "metadata": {},
     "output_type": "execute_result"
    }
   ],
   "source": [
    "rn_bm2 = run_model (X_train, y_train, RandomForestClassifier(n_estimators=500, max_depth=30, class_weight='balanced'))\n",
    "rn_bm2.best_score_"
   ]
  },
  {
   "cell_type": "code",
   "execution_count": 140,
   "metadata": {},
   "outputs": [
    {
     "name": "stdout",
     "output_type": "stream",
     "text": [
      "0.7751480660205685\n"
     ]
    },
    {
     "data": {
      "text/plain": [
       "0.7751480660205685"
      ]
     },
     "execution_count": 140,
     "metadata": {},
     "output_type": "execute_result"
    }
   ],
   "source": [
    "rn_bm3 = run_model (X_train, y_train, RandomForestClassifier(n_estimators=1500, max_depth=30, class_weight='balanced'))\n",
    "rn_bm3.best_score_"
   ]
  },
  {
   "cell_type": "code",
   "execution_count": 150,
   "metadata": {},
   "outputs": [
    {
     "name": "stdout",
     "output_type": "stream",
     "text": [
      "0.7816679085857505\n"
     ]
    },
    {
     "data": {
      "text/plain": [
       "0.7816679085857505"
      ]
     },
     "execution_count": 150,
     "metadata": {},
     "output_type": "execute_result"
    }
   ],
   "source": [
    "rn_bm4 = run_model (X_train, y_train, RandomForestClassifier(n_estimators=500, class_weight='balanced'))\n",
    "rn_bm4.best_score_b    "
   ]
  },
  {
   "cell_type": "code",
   "execution_count": 146,
   "metadata": {},
   "outputs": [
    {
     "name": "stdout",
     "output_type": "stream",
     "text": [
      "0.7822158687993156\n"
     ]
    },
    {
     "data": {
      "text/plain": [
       "0.7822158687993156"
      ]
     },
     "execution_count": 146,
     "metadata": {},
     "output_type": "execute_result"
    }
   ],
   "source": [
    "rn_bm5 = run_model (X_train, y_train, RandomForestClassifier(class_weight='balanced'))\n",
    "rn_bm5.best_score_"
   ]
  },
  {
   "cell_type": "code",
   "execution_count": 149,
   "metadata": {},
   "outputs": [
    {
     "name": "stdout",
     "output_type": "stream",
     "text": [
      "0.7029364520135222\n"
     ]
    },
    {
     "data": {
      "text/plain": [
       "0.7029364520135222"
      ]
     },
     "execution_count": 149,
     "metadata": {},
     "output_type": "execute_result"
    }
   ],
   "source": [
    "rn_bm6 = run_model (X_train, y_train, RandomForestClassifier(max_depth=20))\n",
    "rn_bm6.best_score_"
   ]
  },
  {
   "cell_type": "code",
   "execution_count": 158,
   "metadata": {},
   "outputs": [
    {
     "name": "stdout",
     "output_type": "stream",
     "text": [
      "0.7799692784487643\n"
     ]
    },
    {
     "data": {
      "text/plain": [
       "0.7799692784487643"
      ]
     },
     "execution_count": 158,
     "metadata": {},
     "output_type": "execute_result"
    }
   ],
   "source": [
    "rn_bm7 = run_model (X_train, y_train, RandomForestClassifier(max_depth=40, class_weight='balanced_subsample'))\n",
    "rn_bm7.best_score_"
   ]
  },
  {
   "cell_type": "markdown",
   "metadata": {},
   "source": [
    "balanced supsample gave us an increase of .01"
   ]
  },
  {
   "cell_type": "code",
   "execution_count": 172,
   "metadata": {},
   "outputs": [
    {
     "name": "stdout",
     "output_type": "stream",
     "text": [
      "0.7819966607009526\n"
     ]
    },
    {
     "data": {
      "text/plain": [
       "0.7819966607009526"
      ]
     },
     "execution_count": 172,
     "metadata": {},
     "output_type": "execute_result"
    }
   ],
   "source": [
    "rn_bm8 = run_model (X_train, y_train, RandomForestClassifier(n_estimators=500, class_weight='balanced_subsample'))\n",
    "rn_bm8.best_score_"
   ]
  },
  {
   "cell_type": "code",
   "execution_count": 173,
   "metadata": {},
   "outputs": [
    {
     "name": "stdout",
     "output_type": "stream",
     "text": [
      "0.7743259981314934\n"
     ]
    },
    {
     "data": {
      "text/plain": [
       "0.7743259981314934"
      ]
     },
     "execution_count": 173,
     "metadata": {},
     "output_type": "execute_result"
    }
   ],
   "source": [
    "rn_bm9 = run_model (X_train, y_train, RandomForestClassifier(max_depth=30 ,n_estimators=500, class_weight='balanced_subsample'))\n",
    "rn_bm9.best_score_"
   ]
  },
  {
   "cell_type": "markdown",
   "metadata": {},
   "source": [
    "$BestModel$"
   ]
  },
  {
   "cell_type": "markdown",
   "metadata": {},
   "source": [
    "Our best model appears to be a RandomForest Classifier with n_estimators=500, and class_weight balanced_subsample.\n",
    "\n",
    "rn_bm8 = run_model (X_train, y_train, RandomForestClassifier(n_estimators=500, class_weight='balanced_subsample'))"
   ]
  },
  {
   "cell_type": "markdown",
   "metadata": {},
   "source": [
    "$Saving Y Preds$"
   ]
  },
  {
   "cell_type": "markdown",
   "metadata": {},
   "source": [
    "Here we save the y predictors for both the train and test set, using our best model."
   ]
  },
  {
   "cell_type": "code",
   "execution_count": 174,
   "metadata": {},
   "outputs": [],
   "source": [
    "#train preds\n",
    "y_pred_bm8 = rn_bm8.predict(X_train)\n",
    "\n",
    "y_pred_tr = pd.DataFrame(data=y_pred_bm8, columns=y_train.columns, index=y_train.index)\n",
    "\n",
    "y_pred_tr.to_csv('../data/best_y_preds.csv')"
   ]
  },
  {
   "cell_type": "code",
   "execution_count": 175,
   "metadata": {},
   "outputs": [],
   "source": [
    "#test_preds\n",
    "y_pred_test = rn_bm8.predict(X_test)\n",
    "\n",
    "y_pred_testdf = pd.DataFrame(data=y_pred_test, columns=y_test.columns, index=y_test.index)\n",
    "\n",
    "y_pred_testdf.to_csv('../data/y_preds_test.csv')"
   ]
  }
 ],
 "metadata": {
  "kernelspec": {
   "display_name": "Python 3",
   "language": "python",
   "name": "python3"
  },
  "language_info": {
   "codemirror_mode": {
    "name": "ipython",
    "version": 3
   },
   "file_extension": ".py",
   "mimetype": "text/x-python",
   "name": "python",
   "nbconvert_exporter": "python",
   "pygments_lexer": "ipython3",
   "version": "3.8.3"
  }
 },
 "nbformat": 4,
 "nbformat_minor": 4
}
